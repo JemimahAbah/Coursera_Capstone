{
 "cells": [
  {
   "cell_type": "markdown",
   "metadata": {
    "collapsed": true
   },
   "source": [
    "# Coursera_Capstone Project\n",
    "###### This is my final project for the IBM Data Science (Coursera)"
   ]
  },
  {
   "cell_type": "code",
   "execution_count": 1,
   "metadata": {},
   "outputs": [],
   "source": [
    "import numpy as np\n",
    "import pandas as pd"
   ]
  },
  {
   "cell_type": "code",
   "execution_count": 2,
   "metadata": {},
   "outputs": [
    {
     "name": "stdout",
     "output_type": "stream",
     "text": [
      "Hello Capstone Project Course!\n"
     ]
    }
   ],
   "source": [
    "print('Hello Capstone Project Course!')"
   ]
  },
  {
   "cell_type": "markdown",
   "metadata": {},
   "source": [
    "### Business Problem"
   ]
  },
  {
   "cell_type": "markdown",
   "metadata": {},
   "source": [
    "Traffic  accidents  cause  serious  threat to  the  human life worldwide, the economy and reduces efficiency in transportation. Some factors that  contribute to the risk of collisions are; vehicle design, speed of operation, road design, road environment, weather conditions, lighting conditions, driving skills, impairment due to alcohol or drugs, and behavior, notably distracted driving, speeding, and street racing.\n",
    "\n",
    "\n",
    "It is therefore  important to build a model for accident severity prediction for effective performance of road traffic systems for improved safety and minimized collisions.\n",
    "\n",
    "\n",
    "###### Stakeholders\n",
    "Stakeholder involved in this includes:\n",
    "1. Carowners\n",
    "2. Healthcare workers\n",
    "3. Government\n",
    "4. Commuters\n",
    "5. Logistics\n",
    "6. Professional Drivers"
   ]
  },
  {
   "cell_type": "markdown",
   "metadata": {},
   "source": [
    "### Data"
   ]
  },
  {
   "cell_type": "markdown",
   "metadata": {},
   "source": [
    "The data to be used for this project is raw data from the SDOT Trafic Management Division, containing all types of collisions that occured Seattle city from 2004 to 2020\n",
    "\n",
    "The data contains 194,673 samples and have 37 features. we will use SEVERITYCODE as our dependent variable Y. Since the observations are quite large, we will have to work on the missing value and delete the unrelated columns first. Then we can select the factor which may have more impact on the accidents, such as weather, road condition, light condition, collision type, either driver was involved by influencing drugs or alcohol, junction type, speeding or not speeding."
   ]
  },
  {
   "cell_type": "markdown",
   "metadata": {},
   "source": [
    "##### Data Desription\n",
    "1. COLLISIONTYPE: Collision type\n",
    "2. WEATHER: Weather conditions during the time of the collision\n",
    "3. ROADCOND: The condition of the road during the collision\n",
    "4. LIGHTCOND: The light condition during the collision\n",
    "5. UNDERINFL: Whether or not a driver involved was under the influence of the drugs or alcohol\n",
    "6. JUNCTIONTYPE: teh type of juntion the accident occured\n",
    "7. SPEEDING:speeding or not speeding\n"
   ]
  },
  {
   "cell_type": "code",
   "execution_count": null,
   "metadata": {},
   "outputs": [],
   "source": []
  },
  {
   "cell_type": "code",
   "execution_count": null,
   "metadata": {},
   "outputs": [],
   "source": []
  }
 ],
 "metadata": {
  "kernelspec": {
   "display_name": "Python 3.6",
   "language": "python",
   "name": "python3"
  },
  "language_info": {
   "codemirror_mode": {
    "name": "ipython",
    "version": 3
   },
   "file_extension": ".py",
   "mimetype": "text/x-python",
   "name": "python",
   "nbconvert_exporter": "python",
   "pygments_lexer": "ipython3",
   "version": "3.6.9"
  }
 },
 "nbformat": 4,
 "nbformat_minor": 1
}
